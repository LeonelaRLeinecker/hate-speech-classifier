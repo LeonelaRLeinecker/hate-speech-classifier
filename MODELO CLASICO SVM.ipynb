{
 "cells": [
  {
   "cell_type": "markdown",
   "id": "a0b50f99-eb37-4b7a-bdef-cc740aac3368",
   "metadata": {},
   "source": [
    "# MODELO CLASICO ML"
   ]
  },
  {
   "cell_type": "code",
   "execution_count": 50,
   "id": "59736a41-7e67-4cc7-9e60-d7c7cda751a7",
   "metadata": {},
   "outputs": [],
   "source": [
    "import pandas as pd\n",
    "pd.set_option('display.max_colwidth', None)"
   ]
  },
  {
   "cell_type": "code",
   "execution_count": 51,
   "id": "e64a1c81-c615-4558-9225-e41b136130ce",
   "metadata": {},
   "outputs": [],
   "source": [
    "from tqdm import tqdm\n",
    "import time"
   ]
  },
  {
   "cell_type": "code",
   "execution_count": 29,
   "id": "3fc7a837-3807-42cf-8bee-222524eb67b4",
   "metadata": {},
   "outputs": [
    {
     "name": "stdout",
     "output_type": "stream",
     "text": [
      "Collecting yellowbrick\n",
      "  Downloading yellowbrick-1.5-py3-none-any.whl (282 kB)\n",
      "     ---------------------------------------- 0.0/282.6 kB ? eta -:--:--\n",
      "     ----------------------- -------------- 174.1/282.6 kB 5.3 MB/s eta 0:00:01\n",
      "     -------------------------------------- 282.6/282.6 kB 4.4 MB/s eta 0:00:00\n",
      "Requirement already satisfied: matplotlib!=3.0.0,>=2.0.2 in c:\\users\\usuario\\appdata\\local\\programs\\python\\python310\\lib\\site-packages (from yellowbrick) (3.7.2)\n",
      "Requirement already satisfied: scipy>=1.0.0 in c:\\users\\usuario\\appdata\\local\\programs\\python\\python310\\lib\\site-packages (from yellowbrick) (1.11.2)\n",
      "Requirement already satisfied: scikit-learn>=1.0.0 in c:\\users\\usuario\\appdata\\local\\programs\\python\\python310\\lib\\site-packages (from yellowbrick) (1.2.2)\n",
      "Requirement already satisfied: numpy>=1.16.0 in c:\\users\\usuario\\appdata\\local\\programs\\python\\python310\\lib\\site-packages (from yellowbrick) (1.26.2)\n",
      "Requirement already satisfied: cycler>=0.10.0 in c:\\users\\usuario\\appdata\\local\\programs\\python\\python310\\lib\\site-packages (from yellowbrick) (0.11.0)\n",
      "Requirement already satisfied: contourpy>=1.0.1 in c:\\users\\usuario\\appdata\\local\\programs\\python\\python310\\lib\\site-packages (from matplotlib!=3.0.0,>=2.0.2->yellowbrick) (1.1.0)\n",
      "Requirement already satisfied: fonttools>=4.22.0 in c:\\users\\usuario\\appdata\\local\\programs\\python\\python310\\lib\\site-packages (from matplotlib!=3.0.0,>=2.0.2->yellowbrick) (4.42.1)\n",
      "Requirement already satisfied: kiwisolver>=1.0.1 in c:\\users\\usuario\\appdata\\local\\programs\\python\\python310\\lib\\site-packages (from matplotlib!=3.0.0,>=2.0.2->yellowbrick) (1.4.5)\n",
      "Requirement already satisfied: packaging>=20.0 in c:\\users\\usuario\\appdata\\local\\programs\\python\\python310\\lib\\site-packages (from matplotlib!=3.0.0,>=2.0.2->yellowbrick) (21.3)\n",
      "Requirement already satisfied: pillow>=6.2.0 in c:\\users\\usuario\\appdata\\local\\programs\\python\\python310\\lib\\site-packages (from matplotlib!=3.0.0,>=2.0.2->yellowbrick) (10.1.0)\n",
      "Requirement already satisfied: pyparsing<3.1,>=2.3.1 in c:\\users\\usuario\\appdata\\local\\programs\\python\\python310\\lib\\site-packages (from matplotlib!=3.0.0,>=2.0.2->yellowbrick) (3.0.9)\n",
      "Requirement already satisfied: python-dateutil>=2.7 in c:\\users\\usuario\\appdata\\local\\programs\\python\\python310\\lib\\site-packages (from matplotlib!=3.0.0,>=2.0.2->yellowbrick) (2.8.2)\n",
      "Requirement already satisfied: joblib>=1.1.1 in c:\\users\\usuario\\appdata\\local\\programs\\python\\python310\\lib\\site-packages (from scikit-learn>=1.0.0->yellowbrick) (1.3.2)\n",
      "Requirement already satisfied: threadpoolctl>=2.0.0 in c:\\users\\usuario\\appdata\\local\\programs\\python\\python310\\lib\\site-packages (from scikit-learn>=1.0.0->yellowbrick) (3.2.0)\n",
      "Requirement already satisfied: six>=1.5 in c:\\users\\usuario\\appdata\\local\\programs\\python\\python310\\lib\\site-packages (from python-dateutil>=2.7->matplotlib!=3.0.0,>=2.0.2->yellowbrick) (1.16.0)\n",
      "Installing collected packages: yellowbrick\n",
      "Successfully installed yellowbrick-1.5\n"
     ]
    }
   ],
   "source": [
    "!pip install yellowbrick"
   ]
  },
  {
   "cell_type": "code",
   "execution_count": 65,
   "id": "2f72b79a-7068-4ce6-9949-5f17e241c082",
   "metadata": {},
   "outputs": [
    {
     "name": "stdout",
     "output_type": "stream",
     "text": [
      "Collecting shap\n",
      "  Downloading shap-0.44.0-cp310-cp310-win_amd64.whl.metadata (24 kB)\n",
      "Requirement already satisfied: numpy in c:\\users\\usuario\\appdata\\local\\programs\\python\\python310\\lib\\site-packages (from shap) (1.26.2)\n",
      "Requirement already satisfied: scipy in c:\\users\\usuario\\appdata\\local\\programs\\python\\python310\\lib\\site-packages (from shap) (1.11.2)\n",
      "Requirement already satisfied: scikit-learn in c:\\users\\usuario\\appdata\\local\\programs\\python\\python310\\lib\\site-packages (from shap) (1.2.2)\n",
      "Requirement already satisfied: pandas in c:\\users\\usuario\\appdata\\local\\programs\\python\\python310\\lib\\site-packages (from shap) (1.5.3)\n",
      "Requirement already satisfied: tqdm>=4.27.0 in c:\\users\\usuario\\appdata\\local\\programs\\python\\python310\\lib\\site-packages (from shap) (4.66.1)\n",
      "Requirement already satisfied: packaging>20.9 in c:\\users\\usuario\\appdata\\local\\programs\\python\\python310\\lib\\site-packages (from shap) (21.3)\n",
      "Collecting slicer==0.0.7 (from shap)\n",
      "  Downloading slicer-0.0.7-py3-none-any.whl (14 kB)\n",
      "Collecting numba (from shap)\n",
      "  Downloading numba-0.58.1-cp310-cp310-win_amd64.whl.metadata (2.8 kB)\n",
      "Collecting cloudpickle (from shap)\n",
      "  Downloading cloudpickle-3.0.0-py3-none-any.whl.metadata (7.0 kB)\n",
      "Requirement already satisfied: pyparsing!=3.0.5,>=2.0.2 in c:\\users\\usuario\\appdata\\local\\programs\\python\\python310\\lib\\site-packages (from packaging>20.9->shap) (3.0.9)\n",
      "Requirement already satisfied: colorama in c:\\users\\usuario\\appdata\\local\\programs\\python\\python310\\lib\\site-packages (from tqdm>=4.27.0->shap) (0.4.6)\n",
      "Collecting llvmlite<0.42,>=0.41.0dev0 (from numba->shap)\n",
      "  Downloading llvmlite-0.41.1-cp310-cp310-win_amd64.whl.metadata (4.9 kB)\n",
      "Requirement already satisfied: python-dateutil>=2.8.1 in c:\\users\\usuario\\appdata\\local\\programs\\python\\python310\\lib\\site-packages (from pandas->shap) (2.8.2)\n",
      "Requirement already satisfied: pytz>=2020.1 in c:\\users\\usuario\\appdata\\local\\programs\\python\\python310\\lib\\site-packages (from pandas->shap) (2023.3.post1)\n",
      "Requirement already satisfied: joblib>=1.1.1 in c:\\users\\usuario\\appdata\\local\\programs\\python\\python310\\lib\\site-packages (from scikit-learn->shap) (1.3.2)\n",
      "Requirement already satisfied: threadpoolctl>=2.0.0 in c:\\users\\usuario\\appdata\\local\\programs\\python\\python310\\lib\\site-packages (from scikit-learn->shap) (3.2.0)\n",
      "Requirement already satisfied: six>=1.5 in c:\\users\\usuario\\appdata\\local\\programs\\python\\python310\\lib\\site-packages (from python-dateutil>=2.8.1->pandas->shap) (1.16.0)\n",
      "Downloading shap-0.44.0-cp310-cp310-win_amd64.whl (447 kB)\n",
      "   ---------------------------------------- 0.0/448.0 kB ? eta -:--:--\n",
      "   ------------------------ --------------- 276.5/448.0 kB 8.6 MB/s eta 0:00:01\n",
      "   ---------------------------------------- 448.0/448.0 kB 5.6 MB/s eta 0:00:00\n",
      "Downloading cloudpickle-3.0.0-py3-none-any.whl (20 kB)\n",
      "Downloading numba-0.58.1-cp310-cp310-win_amd64.whl (2.6 MB)\n",
      "   ---------------------------------------- 0.0/2.6 MB ? eta -:--:--\n",
      "   ------------- -------------------------- 0.8/2.6 MB 17.9 MB/s eta 0:00:01\n",
      "   ---------------------------------- ----- 2.3/2.6 MB 23.9 MB/s eta 0:00:01\n",
      "   ---------------------------------------  2.6/2.6 MB 23.6 MB/s eta 0:00:01\n",
      "   ---------------------------------------- 2.6/2.6 MB 18.4 MB/s eta 0:00:00\n",
      "Downloading llvmlite-0.41.1-cp310-cp310-win_amd64.whl (28.1 MB)\n",
      "   ---------------------------------------- 0.0/28.1 MB ? eta -:--:--\n",
      "   -- ------------------------------------- 1.9/28.1 MB 40.1 MB/s eta 0:00:01\n",
      "   ----- ---------------------------------- 3.8/28.1 MB 40.3 MB/s eta 0:00:01\n",
      "   -------- ------------------------------- 6.3/28.1 MB 40.0 MB/s eta 0:00:01\n",
      "   ----------- ---------------------------- 8.3/28.1 MB 41.0 MB/s eta 0:00:01\n",
      "   ------------- -------------------------- 9.7/28.1 MB 38.7 MB/s eta 0:00:01\n",
      "   ----------------- ---------------------- 12.2/28.1 MB 40.9 MB/s eta 0:00:01\n",
      "   ------------------- -------------------- 13.8/28.1 MB 38.5 MB/s eta 0:00:01\n",
      "   ---------------------- ----------------- 16.0/28.1 MB 43.7 MB/s eta 0:00:01\n",
      "   ------------------------- -------------- 18.1/28.1 MB 40.9 MB/s eta 0:00:01\n",
      "   ----------------------------- ---------- 20.6/28.1 MB 46.7 MB/s eta 0:00:01\n",
      "   -------------------------------- ------- 23.1/28.1 MB 46.7 MB/s eta 0:00:01\n",
      "   ------------------------------------- -- 26.6/28.1 MB 54.7 MB/s eta 0:00:01\n",
      "   ---------------------------------------  28.1/28.1 MB 50.4 MB/s eta 0:00:01\n",
      "   ---------------------------------------  28.1/28.1 MB 50.4 MB/s eta 0:00:01\n",
      "   ---------------------------------------  28.1/28.1 MB 50.4 MB/s eta 0:00:01\n",
      "   ---------------------------------------- 28.1/28.1 MB 29.7 MB/s eta 0:00:00\n",
      "Installing collected packages: slicer, llvmlite, cloudpickle, numba, shap\n",
      "Successfully installed cloudpickle-3.0.0 llvmlite-0.41.1 numba-0.58.1 shap-0.44.0 slicer-0.0.7\n"
     ]
    }
   ],
   "source": [
    "!pip install shap"
   ]
  },
  {
   "cell_type": "markdown",
   "id": "cbd97d99-dace-415d-a7fd-746145566e14",
   "metadata": {},
   "source": [
    "## 1. DATASET PARA MODELAR"
   ]
  },
  {
   "cell_type": "code",
   "execution_count": 2,
   "id": "18a5eed3-140b-42bd-8516-4cc76d749378",
   "metadata": {},
   "outputs": [],
   "source": [
    "TOPICOS = [\n",
    "    \"amnistia\", # ok\n",
    "    \"feminismo\", # ok\n",
    "    \"genero\", # ok\n",
    "    \"monarquia\", # ok\n",
    "    \"salud\", # ok\n",
    "    \"territorio\", #ok\n",
    "    \"violencia_genero\", #ok\n",
    "    \"vivienda\", #ok\n",
    "    \"educacion\", # ok\n",
    "    \"economia\", # ok\n",
    "    \"inmigracion\",\n",
    "]"
   ]
  },
  {
   "cell_type": "code",
   "execution_count": null,
   "id": "07ea3022-e4c6-4198-9be2-a9d04b30aede",
   "metadata": {},
   "outputs": [],
   "source": [
    "topic = TOPICOS[10]\n",
    "print(\"Topico elegido\", topic)\n"
   ]
  },
  {
   "cell_type": "code",
   "execution_count": 144,
   "id": "54b9a676-3b1c-4d19-a9cd-0bcf5b49308b",
   "metadata": {},
   "outputs": [],
   "source": [
    "def get_labeled_comments(topic):\n",
    "    df_a_clasificar = pd.read_csv(f\"comentarios_{topic}_a_clasificar.csv\")\n",
    "    df_clasificado = pd.read_csv(f\"comentarios_{topic}_clasificado.csv\")\n",
    "    df = df_clasificado.merge(df_a_clasificar, on=\"index\")\n",
    "    return df"
   ]
  },
  {
   "cell_type": "code",
   "execution_count": null,
   "id": "36ce12f0-6cd2-44a2-94ad-6eaec8f3c71c",
   "metadata": {},
   "outputs": [],
   "source": [
    "dfs = []\n",
    "for topic in TOPICOS:\n",
    "    try:\n",
    "        dfs.append(get_labeled_comments(topic))\n",
    "    except Exception:\n",
    "        print(\"Topic not found\", topic)\n",
    "        continue\n",
    "    \n",
    "df = pd.concat(dfs)"
   ]
  },
  {
   "cell_type": "code",
   "execution_count": 45,
   "id": "6ffd665a-33f9-437d-9d1e-e5fffb05fa2e",
   "metadata": {},
   "outputs": [],
   "source": [
    "df = pd.read_csv('comentarios_todos_modelar.csv') "
   ]
  },
  {
   "cell_type": "code",
   "execution_count": 136,
   "id": "37960735-4ae4-415d-9aeb-6218d168b60d",
   "metadata": {},
   "outputs": [],
   "source": [
    "# Limpiar nombres de columnas eliminando espacios al principio o al final\n",
    "df[\"category\"] = df[\"category\"].str.strip()\n",
    "\n",
    "# Reemplazar los nombres de las categorías\n",
    "df[\"category\"] = df[\"category\"].str.replace(\"ideologia politica\", \"ideología política\")\n",
    "df[\"category\"] = df[\"category\"].str.replace(\"ideologia_politica\", \"ideología política\")\n",
    "df[\"category\"] = df[\"category\"].str.replace(\"ideologia política\", \"ideología política\")\n",
    "df[\"category\"] = df[\"category\"].str.replace(\"xenofobia\", \"racismo\")\n",
    "df[\"category\"] = df[\"category\"].str.replace(\"machismo\", \"machismo\")\n",
    "df[\"category\"] = df[\"category\"].str.replace(\"mmachismo\", \"machismo\")\n",
    "df[\"category\"] = df[\"category\"].str.replace(\"machismo\", \"machismo\")\n",
    "df[\"category\"] = df[\"category\"].str.replace(\"achismo\", \"machismo\")\n",
    "df[\"category\"] = df[\"category\"].str.replace(\"homofobia\", \"machismo\")\n",
    "df[\"category\"] = df[\"category\"].str.replace(\"aporofobia\", \"racismo\")\n",
    "df[\"category\"] = df[\"category\"].str.replace(\"racismo\", \"racismo\")\n",
    "df[\"category\"] = df[\"category\"].str.replace(\"religion\", \"racismo\")\n",
    "df[\"category\"] = df[\"category\"].str.replace(\"religión\", \"racismo\")\n",
    "df[\"category\"] = df[\"category\"].str.replace(\"NADA\", \"No definido\") \n",
    "df[\"category\"] = df[\"category\"].str.replace(\"nada\", \"No definido\")"
   ]
  },
  {
   "cell_type": "code",
   "execution_count": 5,
   "id": "6ad7ffb8-b3a6-4174-8c8f-346602bc7a35",
   "metadata": {},
   "outputs": [
    {
     "data": {
      "text/plain": [
       "ideología política    357\n",
       "racismo               337\n",
       "machismo              314\n",
       "Name: category, dtype: int64"
      ]
     },
     "execution_count": 5,
     "metadata": {},
     "output_type": "execute_result"
    }
   ],
   "source": [
    "df['category'].value_counts()"
   ]
  },
  {
   "cell_type": "markdown",
   "id": "f7957456-ee97-4867-bd46-4db014f3f63d",
   "metadata": {},
   "source": [
    "### 1.1 CREAMOS LA DATA DE VALIDACION "
   ]
  },
  {
   "cell_type": "markdown",
   "id": "9dc99c50-3d8a-4e0b-9e8c-7e04f8d45bad",
   "metadata": {},
   "source": [
    "COMENTARIOS CRUDOS"
   ]
  },
  {
   "cell_type": "code",
   "execution_count": 3,
   "id": "09fefb03-e9d5-4885-8042-5f35b8926b84",
   "metadata": {},
   "outputs": [],
   "source": [
    "df_a_clasificar = pd.read_csv(f\"comentarios_vivienda_a_clasificar.csv\")\n",
    "# df_clasificado = pd.read_csv(f\"comentarios_vivienda_clasificado.csv\")\n",
    "# df_validation = pd.concat([df_a_clasificar, df_clasificado], ignore_index=False)\n",
    "    "
   ]
  },
  {
   "cell_type": "code",
   "execution_count": 6,
   "id": "f93c61c1-4ce4-41a8-b35f-4d49ef5c40c4",
   "metadata": {},
   "outputs": [
    {
     "data": {
      "text/html": [
       "<div>\n",
       "<style scoped>\n",
       "    .dataframe tbody tr th:only-of-type {\n",
       "        vertical-align: middle;\n",
       "    }\n",
       "\n",
       "    .dataframe tbody tr th {\n",
       "        vertical-align: top;\n",
       "    }\n",
       "\n",
       "    .dataframe thead th {\n",
       "        text-align: right;\n",
       "    }\n",
       "</style>\n",
       "<table border=\"1\" class=\"dataframe\">\n",
       "  <thead>\n",
       "    <tr style=\"text-align: right;\">\n",
       "      <th></th>\n",
       "      <th>index</th>\n",
       "      <th>comment</th>\n",
       "    </tr>\n",
       "  </thead>\n",
       "  <tbody>\n",
       "    <tr>\n",
       "      <th>0</th>\n",
       "      <td>1865</td>\n",
       "      <td>TODA RIDICULA GERRA ,,,, SOLAMENTE TRAE MAS PENAS ,,,, Y MAS PROBLEMAS ,,,,</td>\n",
       "    </tr>\n",
       "    <tr>\n",
       "      <th>1</th>\n",
       "      <td>1379</td>\n",
       "      <td>E por que destruis mi vida y despues te alejas de mi por ser yo fuiste famoso llevas mi amor para ir a inbertir todos por ai atras de la mujer fasil ese amor es solo tu y yo no es de nadie yo nesesito de mi amor fuiste a disfrutar con otras de mi amor yo no te di para ir a regalar a otras mujer sinberbuenza vividora fea fea ya me pone nerviosa y me ase doler mi cabeza tu te burlas no mas de mi aqui y fuiste por ai otras ves a burlar de mi no quiero ver mas esa mujer toxsica</td>\n",
       "    </tr>\n",
       "    <tr>\n",
       "      <th>2</th>\n",
       "      <td>3004</td>\n",
       "      <td>esa colorada</td>\n",
       "    </tr>\n",
       "    <tr>\n",
       "      <th>3</th>\n",
       "      <td>2147</td>\n",
       "      <td>Que se regresen los negros a su pais</td>\n",
       "    </tr>\n",
       "    <tr>\n",
       "      <th>4</th>\n",
       "      <td>2962</td>\n",
       "      <td>La Chilena es terrible de pesada.\\r\\nAtte\\r\\nUn Chileno</td>\n",
       "    </tr>\n",
       "  </tbody>\n",
       "</table>\n",
       "</div>"
      ],
      "text/plain": [
       "   index  \\\n",
       "0   1865   \n",
       "1   1379   \n",
       "2   3004   \n",
       "3   2147   \n",
       "4   2962   \n",
       "\n",
       "                                                                                                                                                                                                                                                                                                                                                                                                                                                                                          comment  \n",
       "0                                                                                                                                                                                                                                                                                                                                                                                                                     TODA RIDICULA GERRA ,,,, SOLAMENTE TRAE MAS PENAS ,,,, Y MAS PROBLEMAS ,,,,  \n",
       "1  E por que destruis mi vida y despues te alejas de mi por ser yo fuiste famoso llevas mi amor para ir a inbertir todos por ai atras de la mujer fasil ese amor es solo tu y yo no es de nadie yo nesesito de mi amor fuiste a disfrutar con otras de mi amor yo no te di para ir a regalar a otras mujer sinberbuenza vividora fea fea ya me pone nerviosa y me ase doler mi cabeza tu te burlas no mas de mi aqui y fuiste por ai otras ves a burlar de mi no quiero ver mas esa mujer toxsica  \n",
       "2                                                                                                                                                                                                                                                                                                                                                                                                                                                                                    esa colorada  \n",
       "3                                                                                                                                                                                                                                                                                                                                                                                                                                                            Que se regresen los negros a su pais  \n",
       "4                                                                                                                                                                                                                                                                                                                                                                                                                                         La Chilena es terrible de pesada.\\r\\nAtte\\r\\nUn Chileno  "
      ]
     },
     "execution_count": 6,
     "metadata": {},
     "output_type": "execute_result"
    }
   ],
   "source": [
    "df_a_clasificar.head()"
   ]
  },
  {
   "cell_type": "code",
   "execution_count": 21,
   "id": "21d669d1-ca0a-470a-a962-760f06cbcc8f",
   "metadata": {},
   "outputs": [],
   "source": [
    "df_a_clasificar.to_csv(f\"comentarios_validacion_modelo.csv\")"
   ]
  },
  {
   "cell_type": "markdown",
   "id": "b44ab2b6-9e3d-402c-8f1c-ced1b82dc332",
   "metadata": {},
   "source": [
    "COMENTARIOS STEMIZADOS"
   ]
  },
  {
   "cell_type": "code",
   "execution_count": 4,
   "id": "d44e0659-acbc-4405-8478-a2e9cb88b5f0",
   "metadata": {},
   "outputs": [],
   "source": [
    "df_8 = pd.read_csv(f\"comentarios_vivienda_stem_a_concatenar.csv\")"
   ]
  },
  {
   "cell_type": "code",
   "execution_count": 20,
   "id": "42e67bc9-5f22-49b8-8ec8-8c93d81b61bf",
   "metadata": {},
   "outputs": [
    {
     "data": {
      "text/plain": [
       "(109, 2)"
      ]
     },
     "execution_count": 20,
     "metadata": {},
     "output_type": "execute_result"
    }
   ],
   "source": [
    "df_8.shape"
   ]
  },
  {
   "cell_type": "code",
   "execution_count": 22,
   "id": "86740fbe-79f0-498a-b191-bfb8682aa83d",
   "metadata": {},
   "outputs": [],
   "source": [
    "df_8.to_csv(f\"comentarios_stem_validacion_modelo.csv\")"
   ]
  },
  {
   "cell_type": "markdown",
   "id": "549fdd02-59bb-4939-9f9e-d8fbdeb46edb",
   "metadata": {},
   "source": [
    "## 1.2 ANALISIS DE DATASET DE MODELAR  "
   ]
  },
  {
   "cell_type": "markdown",
   "id": "ca05e278-6b73-46d7-b225-ebba4bd3206c",
   "metadata": {},
   "source": [
    "####  1.2.1 BALANCE DE CLASES"
   ]
  },
  {
   "cell_type": "code",
   "execution_count": 211,
   "id": "0a283d03-4b91-448a-ad3c-b4e6b80c73f1",
   "metadata": {},
   "outputs": [
    {
     "data": {
      "image/png": "[encoded data removed]",
      "text/plain": [
       "<Figure size 576x432 with 1 Axes>"
      ]
     },
     "metadata": {
      "needs_background": "light"
     },
     "output_type": "display_data"
    }
   ],
   "source": [
    "import matplotlib.pyplot as plt\n",
    "fig = plt.figure(figsize=(8,6))\n",
    "df_mod.groupby('category').comment.count().plot.bar(ylim=0)\n",
    "plt.show()"
   ]
  },
  {
   "cell_type": "markdown",
   "id": "b3e58651-9a07-4c7c-939a-a44fce3e0cb7",
   "metadata": {},
   "source": [
    "# 2. MODELADO \n"
   ]
  },
  {
   "cell_type": "markdown",
   "id": "3ec91cda-2d22-43af-a153-c8097281518c",
   "metadata": {},
   "source": [
    "### 2.1 BUSQUEDA DE LOS MEJORES MODELOS"
   ]
  },
  {
   "cell_type": "code",
   "execution_count": 6,
   "id": "355a3f78-d45a-499c-b2e9-f405084d6af8",
   "metadata": {},
   "outputs": [],
   "source": [
    "import nltk\n",
    "stopwords = nltk.corpus.stopwords.words('spanish')"
   ]
  },
  {
   "cell_type": "code",
   "execution_count": 7,
   "id": "6a151d27-0d1a-4232-9a07-cee2955167b4",
   "metadata": {},
   "outputs": [],
   "source": [
    "from sklearn.feature_extraction.text import TfidfVectorizer\n",
    "tfidf = TfidfVectorizer(\n",
    "    sublinear_tf=True,\n",
    "    min_df=5,\n",
    "    norm='l2',\n",
    "    encoding='utf-8',\n",
    "    ngram_range=(1, 2),\n",
    "    stop_words=stopwords\n",
    ")\n",
    "features = tfidf.fit_transform(df.comment).toarray()\n",
    "labels = df.category\n"
   ]
  },
  {
   "cell_type": "code",
   "execution_count": 52,
   "id": "88580929-5e6b-4ee7-802e-e88f6ac23a51",
   "metadata": {},
   "outputs": [],
   "source": [
    "from sklearn.model_selection import train_test_split\n",
    "from sklearn.feature_extraction.text import CountVectorizer\n",
    "from sklearn.feature_extraction.text import TfidfTransformer\n",
    "from sklearn.naive_bayes import MultinomialNB \n",
    "from sklearn.metrics import classification_report\n",
    "\n",
    "X_train, X_test, y_train, y_test = train_test_split(\n",
    "    df['comment'], \n",
    "    df['category']\n",
    ")\n",
    "count_vect = CountVectorizer()\n",
    "X_train_counts = count_vect.fit_transform(X_train)\n",
    "\n",
    "tfidf_transformer = TfidfTransformer()\n",
    "X_train_tfidf = tfidf_transformer.fit_transform(X_train_counts)\n",
    "\n",
    "clf = MultinomialNB().fit(X_train_tfidf, y_train)"
   ]
  },
  {
   "cell_type": "code",
   "execution_count": 41,
   "id": "ce5c9588-f54a-4ef5-97e7-4bf17397a295",
   "metadata": {},
   "outputs": [
    {
     "name": "stderr",
     "output_type": "stream",
     "text": [
      "C:\\Users\\Usuario\\AppData\\Local\\Temp\\ipykernel_6396\\2760050206.py:27: FutureWarning: Use \"auto\" to set automatic grayscale colors. From v0.14.0, \"gray\" will default to matplotlib's definition.\n",
      "  sns.stripplot(x='model_name', y='accuracy', data=cv_df,\n"
     ]
    },
    {
     "data": {
      "image/png": "[encoded data removed]",
      "text/plain": [
       "<Figure size 576x396 with 1 Axes>"
      ]
     },
     "metadata": {},
     "output_type": "display_data"
    }
   ],
   "source": [
    "from sklearn.linear_model import LogisticRegression\n",
    "from sklearn.ensemble import RandomForestClassifier\n",
    "from sklearn.svm import LinearSVC\n",
    "from sklearn.model_selection import cross_val_score\n",
    "\n",
    "models = [\n",
    "    RandomForestClassifier(n_estimators=200, max_depth=3, random_state=0),\n",
    "    LinearSVC(),\n",
    "    MultinomialNB(),\n",
    "    LogisticRegression(random_state=0),\n",
    "]\n",
    "\n",
    "CV = 5\n",
    "cv_df = pd.DataFrame(index=range(CV * len(models)))\n",
    "\n",
    "entries = []\n",
    "for model in models:\n",
    "  model_name = model.__class__.__name__\n",
    "  accuracies = cross_val_score(model, features, labels, scoring='accuracy', cv=CV)\n",
    "  for fold_idx, accuracy in enumerate(accuracies):\n",
    "    entries.append((model_name, fold_idx, accuracy))\n",
    "      \n",
    "cv_df = pd.DataFrame(entries, columns=['model_name', 'fold_idx', 'accuracy'])\n",
    "\n",
    "import seaborn as sns\n",
    "sns.boxplot(x='model_name', y='accuracy', data=cv_df)\n",
    "sns.stripplot(x='model_name', y='accuracy', data=cv_df, \n",
    "              size=8, jitter=True, edgecolor=\"gray\", linewidth=2)\n",
    "plt.show()"
   ]
  },
  {
   "cell_type": "code",
   "execution_count": 42,
   "id": "4717b2c7-8c69-4dc6-a369-361a30dcf5e1",
   "metadata": {},
   "outputs": [
    {
     "data": {
      "text/html": [
       "<div>\n",
       "<style scoped>\n",
       "    .dataframe tbody tr th:only-of-type {\n",
       "        vertical-align: middle;\n",
       "    }\n",
       "\n",
       "    .dataframe tbody tr th {\n",
       "        vertical-align: top;\n",
       "    }\n",
       "\n",
       "    .dataframe thead th {\n",
       "        text-align: right;\n",
       "    }\n",
       "</style>\n",
       "<table border=\"1\" class=\"dataframe\">\n",
       "  <thead>\n",
       "    <tr style=\"text-align: right;\">\n",
       "      <th></th>\n",
       "      <th>model_name</th>\n",
       "      <th>fold_idx</th>\n",
       "      <th>accuracy</th>\n",
       "    </tr>\n",
       "  </thead>\n",
       "  <tbody>\n",
       "    <tr>\n",
       "      <th>0</th>\n",
       "      <td>RandomForestClassifier</td>\n",
       "      <td>0</td>\n",
       "      <td>0.460396</td>\n",
       "    </tr>\n",
       "    <tr>\n",
       "      <th>1</th>\n",
       "      <td>RandomForestClassifier</td>\n",
       "      <td>1</td>\n",
       "      <td>0.495050</td>\n",
       "    </tr>\n",
       "    <tr>\n",
       "      <th>2</th>\n",
       "      <td>RandomForestClassifier</td>\n",
       "      <td>2</td>\n",
       "      <td>0.485149</td>\n",
       "    </tr>\n",
       "    <tr>\n",
       "      <th>3</th>\n",
       "      <td>RandomForestClassifier</td>\n",
       "      <td>3</td>\n",
       "      <td>0.427861</td>\n",
       "    </tr>\n",
       "    <tr>\n",
       "      <th>4</th>\n",
       "      <td>RandomForestClassifier</td>\n",
       "      <td>4</td>\n",
       "      <td>0.437811</td>\n",
       "    </tr>\n",
       "    <tr>\n",
       "      <th>5</th>\n",
       "      <td>LinearSVC</td>\n",
       "      <td>0</td>\n",
       "      <td>0.544554</td>\n",
       "    </tr>\n",
       "    <tr>\n",
       "      <th>6</th>\n",
       "      <td>LinearSVC</td>\n",
       "      <td>1</td>\n",
       "      <td>0.579208</td>\n",
       "    </tr>\n",
       "    <tr>\n",
       "      <th>7</th>\n",
       "      <td>LinearSVC</td>\n",
       "      <td>2</td>\n",
       "      <td>0.544554</td>\n",
       "    </tr>\n",
       "    <tr>\n",
       "      <th>8</th>\n",
       "      <td>LinearSVC</td>\n",
       "      <td>3</td>\n",
       "      <td>0.557214</td>\n",
       "    </tr>\n",
       "    <tr>\n",
       "      <th>9</th>\n",
       "      <td>LinearSVC</td>\n",
       "      <td>4</td>\n",
       "      <td>0.666667</td>\n",
       "    </tr>\n",
       "    <tr>\n",
       "      <th>10</th>\n",
       "      <td>MultinomialNB</td>\n",
       "      <td>0</td>\n",
       "      <td>0.509901</td>\n",
       "    </tr>\n",
       "    <tr>\n",
       "      <th>11</th>\n",
       "      <td>MultinomialNB</td>\n",
       "      <td>1</td>\n",
       "      <td>0.574257</td>\n",
       "    </tr>\n",
       "    <tr>\n",
       "      <th>12</th>\n",
       "      <td>MultinomialNB</td>\n",
       "      <td>2</td>\n",
       "      <td>0.594059</td>\n",
       "    </tr>\n",
       "    <tr>\n",
       "      <th>13</th>\n",
       "      <td>MultinomialNB</td>\n",
       "      <td>3</td>\n",
       "      <td>0.552239</td>\n",
       "    </tr>\n",
       "    <tr>\n",
       "      <th>14</th>\n",
       "      <td>MultinomialNB</td>\n",
       "      <td>4</td>\n",
       "      <td>0.606965</td>\n",
       "    </tr>\n",
       "    <tr>\n",
       "      <th>15</th>\n",
       "      <td>LogisticRegression</td>\n",
       "      <td>0</td>\n",
       "      <td>0.554455</td>\n",
       "    </tr>\n",
       "    <tr>\n",
       "      <th>16</th>\n",
       "      <td>LogisticRegression</td>\n",
       "      <td>1</td>\n",
       "      <td>0.594059</td>\n",
       "    </tr>\n",
       "    <tr>\n",
       "      <th>17</th>\n",
       "      <td>LogisticRegression</td>\n",
       "      <td>2</td>\n",
       "      <td>0.564356</td>\n",
       "    </tr>\n",
       "    <tr>\n",
       "      <th>18</th>\n",
       "      <td>LogisticRegression</td>\n",
       "      <td>3</td>\n",
       "      <td>0.597015</td>\n",
       "    </tr>\n",
       "    <tr>\n",
       "      <th>19</th>\n",
       "      <td>LogisticRegression</td>\n",
       "      <td>4</td>\n",
       "      <td>0.631841</td>\n",
       "    </tr>\n",
       "  </tbody>\n",
       "</table>\n",
       "</div>"
      ],
      "text/plain": [
       "                model_name  fold_idx  accuracy\n",
       "0   RandomForestClassifier         0  0.460396\n",
       "1   RandomForestClassifier         1  0.495050\n",
       "2   RandomForestClassifier         2  0.485149\n",
       "3   RandomForestClassifier         3  0.427861\n",
       "4   RandomForestClassifier         4  0.437811\n",
       "5                LinearSVC         0  0.544554\n",
       "6                LinearSVC         1  0.579208\n",
       "7                LinearSVC         2  0.544554\n",
       "8                LinearSVC         3  0.557214\n",
       "9                LinearSVC         4  0.666667\n",
       "10           MultinomialNB         0  0.509901\n",
       "11           MultinomialNB         1  0.574257\n",
       "12           MultinomialNB         2  0.594059\n",
       "13           MultinomialNB         3  0.552239\n",
       "14           MultinomialNB         4  0.606965\n",
       "15      LogisticRegression         0  0.554455\n",
       "16      LogisticRegression         1  0.594059\n",
       "17      LogisticRegression         2  0.564356\n",
       "18      LogisticRegression         3  0.597015\n",
       "19      LogisticRegression         4  0.631841"
      ]
     },
     "execution_count": 42,
     "metadata": {},
     "output_type": "execute_result"
    }
   ],
   "source": [
    "cv_df"
   ]
  },
  {
   "cell_type": "markdown",
   "id": "b69aaf37-7f31-4ac9-a2ab-4bc880af9812",
   "metadata": {},
   "source": [
    "### 2.2 ENTRENAMIENTO DE MODELO"
   ]
  },
  {
   "cell_type": "code",
   "execution_count": 7,
   "id": "cfb5550e-46cd-4c97-9335-834aaa9ec71a",
   "metadata": {},
   "outputs": [
    {
     "name": "stdout",
     "output_type": "stream",
     "text": [
      "Parámetros del modelo SVM:\n",
      "{'C': 1.0, 'break_ties': False, 'cache_size': 200, 'class_weight': None, 'coef0': 0.0, 'decision_function_shape': 'ovr', 'degree': 3, 'gamma': 'scale', 'kernel': 'rbf', 'max_iter': -1, 'probability': False, 'random_state': None, 'shrinking': True, 'tol': 0.001, 'verbose': False}\n",
      "Precisión del modelo único: 0.6386138613861386\n"
     ]
    }
   ],
   "source": [
    "from sklearn.model_selection import train_test_split\n",
    "from sklearn.feature_extraction.text import TfidfVectorizer\n",
    "from sklearn.svm import SVC \n",
    "import numpy as np\n",
    "\n",
    "# Dividir el conjunto de datos en entrenamiento y prueba\n",
    "X_train, X_test, y_train, y_test = train_test_split(df['comment'], df['category'], test_size=0.2)\n",
    "\n",
    "vectorizer = TfidfVectorizer()\n",
    "X_train_vectorized = vectorizer.fit_transform(X_train)\n",
    "X_train_vectorized=X_train_vectorized.toarray()\n",
    "X_test_vectorized = vectorizer.transform(X_test) \n",
    "X_test_vectorized=X_test_vectorized.toarray()\n",
    "\n",
    "# Entrenamiento del modelo\n",
    "model = SVC()  \n",
    "model.fit(X_train_vectorized, y_train)\n",
    "\n",
    "\n",
    "print(\"Parámetros del modelo SVM:\")\n",
    "print(model.get_params())\n",
    "\n",
    "# Evaluación del modelo\n",
    "accuracy = model.score(X_test_vectorized, y_test)\n",
    "print(f'Precisión del modelo único: {accuracy}')"
   ]
  },
  {
   "cell_type": "markdown",
   "id": "4e372be3-5243-4046-959c-abdb81b99044",
   "metadata": {},
   "source": [
    "### 2.3 GUARDAMOS EL MODELO CON PIPELINE"
   ]
  },
  {
   "cell_type": "code",
   "execution_count": 8,
   "id": "86abfb31-73fb-4ac7-a82e-82163640f750",
   "metadata": {},
   "outputs": [],
   "source": [
    "from sklearn.pipeline import Pipeline"
   ]
  },
  {
   "cell_type": "code",
   "execution_count": 40,
   "id": "334bdc18-3693-4879-835e-725024f5c337",
   "metadata": {},
   "outputs": [],
   "source": [
    "# Definir el pipeline\n",
    "pipeline_svc = Pipeline([\n",
    "    ('tfidf', TfidfVectorizer()),\n",
    "    ('svc', SVC(probability=True)), \n",
    "])\n",
    "#utilizamos solamente 300 estimadores para agilizar el proceso durante la clase"
   ]
  },
  {
   "cell_type": "code",
   "execution_count": 41,
   "id": "80b9a715-2c45-44e5-9618-96e3413dac98",
   "metadata": {},
   "outputs": [
    {
     "data": {
      "text/html": [
       "<style>#sk-container-id-2 {color: black;background-color: white;}#sk-container-id-2 pre{padding: 0;}#sk-container-id-2 div.sk-toggleable {background-color: white;}#sk-container-id-2 label.sk-toggleable__label {cursor: pointer;display: block;width: 100%;margin-bottom: 0;padding: 0.3em;box-sizing: border-box;text-align: center;}#sk-container-id-2 label.sk-toggleable__label-arrow:before {content: \"▸\";float: left;margin-right: 0.25em;color: #696969;}#sk-container-id-2 label.sk-toggleable__label-arrow:hover:before {color: black;}#sk-container-id-2 div.sk-estimator:hover label.sk-toggleable__label-arrow:before {color: black;}#sk-container-id-2 div.sk-toggleable__content {max-height: 0;max-width: 0;overflow: hidden;text-align: left;background-color: #f0f8ff;}#sk-container-id-2 div.sk-toggleable__content pre {margin: 0.2em;color: black;border-radius: 0.25em;background-color: #f0f8ff;}#sk-container-id-2 input.sk-toggleable__control:checked~div.sk-toggleable__content {max-height: 200px;max-width: 100%;overflow: auto;}#sk-container-id-2 input.sk-toggleable__control:checked~label.sk-toggleable__label-arrow:before {content: \"▾\";}#sk-container-id-2 div.sk-estimator input.sk-toggleable__control:checked~label.sk-toggleable__label {background-color: #d4ebff;}#sk-container-id-2 div.sk-label input.sk-toggleable__control:checked~label.sk-toggleable__label {background-color: #d4ebff;}#sk-container-id-2 input.sk-hidden--visually {border: 0;clip: rect(1px 1px 1px 1px);clip: rect(1px, 1px, 1px, 1px);height: 1px;margin: -1px;overflow: hidden;padding: 0;position: absolute;width: 1px;}#sk-container-id-2 div.sk-estimator {font-family: monospace;background-color: #f0f8ff;border: 1px dotted black;border-radius: 0.25em;box-sizing: border-box;margin-bottom: 0.5em;}#sk-container-id-2 div.sk-estimator:hover {background-color: #d4ebff;}#sk-container-id-2 div.sk-parallel-item::after {content: \"\";width: 100%;border-bottom: 1px solid gray;flex-grow: 1;}#sk-container-id-2 div.sk-label:hover label.sk-toggleable__label {background-color: #d4ebff;}#sk-container-id-2 div.sk-serial::before {content: \"\";position: absolute;border-left: 1px solid gray;box-sizing: border-box;top: 0;bottom: 0;left: 50%;z-index: 0;}#sk-container-id-2 div.sk-serial {display: flex;flex-direction: column;align-items: center;background-color: white;padding-right: 0.2em;padding-left: 0.2em;position: relative;}#sk-container-id-2 div.sk-item {position: relative;z-index: 1;}#sk-container-id-2 div.sk-parallel {display: flex;align-items: stretch;justify-content: center;background-color: white;position: relative;}#sk-container-id-2 div.sk-item::before, #sk-container-id-2 div.sk-parallel-item::before {content: \"\";position: absolute;border-left: 1px solid gray;box-sizing: border-box;top: 0;bottom: 0;left: 50%;z-index: -1;}#sk-container-id-2 div.sk-parallel-item {display: flex;flex-direction: column;z-index: 1;position: relative;background-color: white;}#sk-container-id-2 div.sk-parallel-item:first-child::after {align-self: flex-end;width: 50%;}#sk-container-id-2 div.sk-parallel-item:last-child::after {align-self: flex-start;width: 50%;}#sk-container-id-2 div.sk-parallel-item:only-child::after {width: 0;}#sk-container-id-2 div.sk-dashed-wrapped {border: 1px dashed gray;margin: 0 0.4em 0.5em 0.4em;box-sizing: border-box;padding-bottom: 0.4em;background-color: white;}#sk-container-id-2 div.sk-label label {font-family: monospace;font-weight: bold;display: inline-block;line-height: 1.2em;}#sk-container-id-2 div.sk-label-container {text-align: center;}#sk-container-id-2 div.sk-container {/* jupyter's `normalize.less` sets `[hidden] { display: none; }` but bootstrap.min.css set `[hidden] { display: none !important; }` so we also need the `!important` here to be able to override the default hidden behavior on the sphinx rendered scikit-learn.org. See: https://github.com/scikit-learn/scikit-learn/issues/21755 */display: inline-block !important;position: relative;}#sk-container-id-2 div.sk-text-repr-fallback {display: none;}</style><div id=\"sk-container-id-2\" class=\"sk-top-container\"><div class=\"sk-text-repr-fallback\"><pre>Pipeline(steps=[(&#x27;tfidf&#x27;, TfidfVectorizer()), (&#x27;svc&#x27;, SVC(probability=True))])</pre><b>In a Jupyter environment, please rerun this cell to show the HTML representation or trust the notebook. <br />On GitHub, the HTML representation is unable to render, please try loading this page with nbviewer.org.</b></div><div class=\"sk-container\" hidden><div class=\"sk-item sk-dashed-wrapped\"><div class=\"sk-label-container\"><div class=\"sk-label sk-toggleable\"><input class=\"sk-toggleable__control sk-hidden--visually\" id=\"sk-estimator-id-4\" type=\"checkbox\" ><label for=\"sk-estimator-id-4\" class=\"sk-toggleable__label sk-toggleable__label-arrow\">Pipeline</label><div class=\"sk-toggleable__content\"><pre>Pipeline(steps=[(&#x27;tfidf&#x27;, TfidfVectorizer()), (&#x27;svc&#x27;, SVC(probability=True))])</pre></div></div></div><div class=\"sk-serial\"><div class=\"sk-item\"><div class=\"sk-estimator sk-toggleable\"><input class=\"sk-toggleable__control sk-hidden--visually\" id=\"sk-estimator-id-5\" type=\"checkbox\" ><label for=\"sk-estimator-id-5\" class=\"sk-toggleable__label sk-toggleable__label-arrow\">TfidfVectorizer</label><div class=\"sk-toggleable__content\"><pre>TfidfVectorizer()</pre></div></div></div><div class=\"sk-item\"><div class=\"sk-estimator sk-toggleable\"><input class=\"sk-toggleable__control sk-hidden--visually\" id=\"sk-estimator-id-6\" type=\"checkbox\" ><label for=\"sk-estimator-id-6\" class=\"sk-toggleable__label sk-toggleable__label-arrow\">SVC</label><div class=\"sk-toggleable__content\"><pre>SVC(probability=True)</pre></div></div></div></div></div></div></div>"
      ],
      "text/plain": [
       "Pipeline(steps=[('tfidf', TfidfVectorizer()), ('svc', SVC(probability=True))])"
      ]
     },
     "execution_count": 41,
     "metadata": {},
     "output_type": "execute_result"
    }
   ],
   "source": [
    "pipeline_svc.fit(X_train, y_train)"
   ]
  },
  {
   "cell_type": "code",
   "execution_count": 15,
   "id": "a553ed9e-0aca-40f4-9333-5a0325e5cb32",
   "metadata": {},
   "outputs": [
    {
     "data": {
      "text/plain": [
       "array([[0.84404634, 0.04263742, 0.11331623]])"
      ]
     },
     "execution_count": 15,
     "metadata": {},
     "output_type": "execute_result"
    }
   ],
   "source": [
    "pipeline_svc.predict_proba(['Los musulmanes no se acoplan y hay que expulsarlos de España solo vienen a po la paguita y a delinquir esta demostrado las cárceles Españolas solo hay este tipo de gente y eso lo dijo un jefe de policía y resulta que es una realidad'])"
   ]
  },
  {
   "cell_type": "code",
   "execution_count": 16,
   "id": "8c21abd0-6c00-4902-bd3b-2d64e1c51da5",
   "metadata": {},
   "outputs": [
    {
     "data": {
      "text/plain": [
       "array(['ideología política', 'machismo', 'racismo'], dtype=object)"
      ]
     },
     "execution_count": 16,
     "metadata": {},
     "output_type": "execute_result"
    }
   ],
   "source": [
    "pipeline_svc.classes_"
   ]
  },
  {
   "cell_type": "code",
   "execution_count": 17,
   "id": "2609ac76-c7db-4882-9c95-6c68fa9816dc",
   "metadata": {},
   "outputs": [],
   "source": [
    "# como guaradr un modelo \n",
    "import pickle \n",
    "\n",
    "with open(\"SVC_model.pkl\", \"wb\") as cualquier_variable:\n",
    "    pickle.dump(pipeline_svc, cualquier_variable) "
   ]
  },
  {
   "cell_type": "code",
   "execution_count": 19,
   "id": "2c0e36d6-9a32-4846-b2a1-03135dbd3b95",
   "metadata": {},
   "outputs": [],
   "source": [
    "import pickle"
   ]
  },
  {
   "cell_type": "code",
   "execution_count": 19,
   "id": "ab9d51d7-6b5d-425b-9550-3f0307456d9b",
   "metadata": {},
   "outputs": [],
   "source": [
    "# Cargar el modelo guardado\n",
    "with open(\"SVC_model.pkl\", \"rb\") as file:\n",
    "    loaded_model = pickle.load(file)"
   ]
  },
  {
   "cell_type": "code",
   "execution_count": 118,
   "id": "9c198289-d5de-41fc-bc76-1d34432461d1",
   "metadata": {},
   "outputs": [],
   "source": [
    "predictions = loaded_model.predict(X_test)"
   ]
  },
  {
   "cell_type": "code",
   "execution_count": 20,
   "id": "ee568c76-6fc1-4ed7-ae18-972dd82381ad",
   "metadata": {},
   "outputs": [
    {
     "data": {
      "text/plain": [
       "array([[0.32451577, 0.48600195, 0.18948228]])"
      ]
     },
     "execution_count": 20,
     "metadata": {},
     "output_type": "execute_result"
    }
   ],
   "source": [
    "loaded_model.predict_proba(['AAAAAAAAAAAA'])"
   ]
  },
  {
   "cell_type": "code",
   "execution_count": 25,
   "id": "4ca5dad1-338e-4d0b-9141-12a509369ff1",
   "metadata": {},
   "outputs": [
    {
     "data": {
      "text/plain": [
       "array(['ideología política'], dtype=object)"
      ]
     },
     "execution_count": 25,
     "metadata": {},
     "output_type": "execute_result"
    }
   ],
   "source": [
    "loaded_model.predict(['Los musulmanes no se acoplan y hay que expulsarlos de España solo vienen a po la paguita y a delinquir esta demostrado las cárceles Españolas solo hay este tipo de gente y eso lo dijo un jefe de policía y resulta que es una realidad'])"
   ]
  },
  {
   "cell_type": "markdown",
   "id": "ba9cafe9-bcc2-4de3-9a1b-9cb06bd9b75f",
   "metadata": {},
   "source": [
    "### 2.4 METRICAS DEL MODELO"
   ]
  },
  {
   "cell_type": "code",
   "execution_count": 213,
   "id": "04b5139f-2b33-43b2-8dae-2bd985165a50",
   "metadata": {},
   "outputs": [
    {
     "name": "stdout",
     "output_type": "stream",
     "text": [
      "                    precision    recall  f1-score   support\n",
      "\n",
      "ideología política       0.88      0.89      0.89        65\n",
      "          machismo       0.90      0.97      0.93        71\n",
      "           racismo       0.95      0.85      0.90        66\n",
      "\n",
      "          accuracy                           0.91       202\n",
      "         macro avg       0.91      0.90      0.90       202\n",
      "      weighted avg       0.91      0.91      0.91       202\n",
      "\n"
     ]
    }
   ],
   "source": [
    "# Realizar predicciones en el conjunto de prueba\n",
    "\n",
    "predicted = pipeline_svc.predict(X_test)\n",
    "\n",
    "print(classification_report(y_test, predicted))"
   ]
  },
  {
   "cell_type": "code",
   "execution_count": 30,
   "id": "60f60ea2-d640-4de9-a34f-2ef86b4e9d62",
   "metadata": {
    "scrolled": true
   },
   "outputs": [
    {
     "data": {
      "image/png": "[encoded data removed]",
      "text/plain": [
       "<Figure size 432x288 with 1 Axes>"
      ]
     },
     "metadata": {
      "needs_background": "light"
     },
     "output_type": "display_data"
    },
    {
     "data": {
      "text/plain": [
       "<Axes: title={'center': 'Validation Curve for SVC'}, xlabel='C', ylabel='score'>"
      ]
     },
     "execution_count": 30,
     "metadata": {},
     "output_type": "execute_result"
    }
   ],
   "source": [
    "from yellowbrick.model_selection import ValidationCurve\n",
    "# Crear la curva de validación para el parámetro 'C' en un clasificador SVM\n",
    "param_range = [0.001, 0.01, 0.1, 1, 1.5, 2, 2.5, 3, 3.5, 5]  # Rango de valores para 'C'\n",
    "cv = ValidationCurve(\n",
    "    SVC(kernel='rbf'), param_name=\"C\", param_range=param_range,\n",
    "    cv=5, scoring=\"accuracy\", n_jobs=8\n",
    ")\n",
    "\n",
    "cv.fit(X_train_vectorized, y_train)\n",
    "cv.show()"
   ]
  },
  {
   "cell_type": "code",
   "execution_count": 57,
   "id": "0d6d8b4b-0728-4ba3-ae5b-e7bf212785da",
   "metadata": {},
   "outputs": [
    {
     "name": "stdout",
     "output_type": "stream",
     "text": [
      "Matriz de Confusión:\n",
      "[[44 19 12]\n",
      " [ 7 47  4]\n",
      " [22  2 45]]\n"
     ]
    }
   ],
   "source": [
    "from sklearn.metrics import confusion_matrix\n",
    "# Realizar predicciones en el conjunto de prueba\n",
    "predictions = model.predict(X_test_vectorized) \n",
    "# Crear la matriz de confusión\n",
    "conf_matrix = confusion_matrix(y_test, predictions)\n",
    "print(\"Matriz de Confusión:\")\n",
    "print(conf_matrix)"
   ]
  },
  {
   "cell_type": "code",
   "execution_count": 58,
   "id": "25bed150-5e5a-4c0a-b301-3b1f60a428f7",
   "metadata": {},
   "outputs": [
    {
     "data": {
      "text/plain": [
       "array(['ideología política', 'racismo', 'machismo'], dtype=object)"
      ]
     },
     "execution_count": 58,
     "metadata": {},
     "output_type": "execute_result"
    }
   ],
   "source": [
    "y.unique()"
   ]
  },
  {
   "cell_type": "code",
   "execution_count": 64,
   "id": "bf97801b-1298-4fe6-a9d4-a021bc8203b7",
   "metadata": {},
   "outputs": [
    {
     "data": {
      "image/png": "[encoded data removed]",
      "text/plain": [
       "<Figure size 576x432 with 2 Axes>"
      ]
     },
     "metadata": {},
     "output_type": "display_data"
    }
   ],
   "source": [
    "# Etiquetas de las clases\n",
    "classes = ['ideología política', 'racismo', 'machismo']\n",
    "\n",
    "# Crear figura y ejes\n",
    "plt.figure(figsize=(8, 6))\n",
    "plt.imshow(conf_matrix, interpolation='nearest', cmap=plt.cm.coolwarm)\n",
    "plt.title('Matriz de Confusión')\n",
    "plt.colorbar()\n",
    "\n",
    "# Añadir etiquetas\n",
    "tick_marks = np.arange(len(classes))\n",
    "plt.xticks(tick_marks, classes, rotation=45)\n",
    "plt.yticks(tick_marks, classes)\n",
    "\n",
    "# Anotar valores en los bloques de la matriz\n",
    "thresh = conf_matrix.max() / 2.\n",
    "for i in range(conf_matrix.shape[0]):\n",
    "    for j in range(conf_matrix.shape[1]):\n",
    "        plt.text(j, i, format(conf_matrix[i, j], 'd'),\n",
    "                 horizontalalignment=\"center\",\n",
    "                 color=\"white\" if conf_matrix[i, j] > thresh else \"black\")\n",
    "\n",
    "plt.tight_layout()\n",
    "plt.ylabel('Clase Verdadera')\n",
    "plt.xlabel('Clase Predicha')\n",
    "\n",
    "plt.show()"
   ]
  },
  {
   "cell_type": "markdown",
   "id": "ed7c4eb5-9722-4b57-bbee-03739665a61f",
   "metadata": {},
   "source": [
    "## 3. VALIDACION DE MODELO "
   ]
  },
  {
   "cell_type": "markdown",
   "id": "a086b48a-36a8-4e1c-bc2f-2b0898249c70",
   "metadata": {},
   "source": [
    "### 3.1 VALIDACION CON COMENTARIOS CRUDOS "
   ]
  },
  {
   "cell_type": "code",
   "execution_count": 52,
   "id": "8b137383-aa6d-42a9-bec2-f1c9f5296f3c",
   "metadata": {},
   "outputs": [],
   "source": [
    "from tqdm import tqdm\n",
    "# from tqdm.auto import tqdm  # for notebooks\n",
    "\n",
    "# Create new `pandas` methods which use `tqdm` progress\n",
    "# (can use tqdm_gui, optional kwargs, etc.)\n",
    "tqdm.pandas()"
   ]
  },
  {
   "cell_type": "code",
   "execution_count": 166,
   "id": "52ba83e2-f028-46ed-9ec2-467b2187141c",
   "metadata": {},
   "outputs": [],
   "source": [
    "df_comment_validation = pd.read_csv(f\"comentarios_validacion_modelo.csv\")"
   ]
  },
  {
   "cell_type": "code",
   "execution_count": 167,
   "id": "765ad396-1f5c-4784-a9bd-e3ac94d19934",
   "metadata": {},
   "outputs": [],
   "source": [
    "# Cargar el modelo guardado\n",
    "with open(\"SVC_model.pkl\", \"rb\") as file:\n",
    "    loaded_model = pickle.load(file)"
   ]
  },
  {
   "cell_type": "code",
   "execution_count": 50,
   "id": "09e64fc5-f916-4591-92b6-659e9fc2f95f",
   "metadata": {},
   "outputs": [
    {
     "data": {
      "text/plain": [
       "array(['mmachismo'], dtype=object)"
      ]
     },
     "execution_count": 50,
     "metadata": {},
     "output_type": "execute_result"
    }
   ],
   "source": [
    "loaded_model.predict([\"mejor pelear solucionar jodido precio alto espa trabajamo comer compramo aceit oliva primer productor aceituna mundo euro litro mismo tiempo unido cobra aceit oliva importado espa alto impuesto aduana mismo tiempo precio alcohol mismo quieren emborrachar respons guerra ucrania rusia pido creer mentira americana inglesa\t\"])"
   ]
  },
  {
   "cell_type": "code",
   "execution_count": 168,
   "id": "fc647e26-3d36-4cd4-9a42-d95752eb9136",
   "metadata": {},
   "outputs": [],
   "source": [
    "df_comment_validation['comment'] = df_comment_validation['comment'].apply(lambda x: [x])"
   ]
  },
  {
   "cell_type": "code",
   "execution_count": 169,
   "id": "dbc3be3e-b29d-430b-b493-7b74ddfcdd6d",
   "metadata": {},
   "outputs": [
    {
     "name": "stderr",
     "output_type": "stream",
     "text": [
      "100%|███████████████████████████████████████████████████████████████████████████████| 190/190 [00:00<00:00, 729.81it/s]\n"
     ]
    }
   ],
   "source": [
    "def asignar_categoria(elemento):\n",
    "    if isinstance(elemento, list):\n",
    "        resultado = loaded_model.predict(elemento) \n",
    "        categoria_predicha = resultado[0]\n",
    "        \n",
    "    return categoria_predicha\n",
    "\n",
    "# Aplicar la función a la columna 'comment' y crear una nueva columna 'category'\n",
    "df_comment_validation['category'] = df_comment_validation['comment'].progress_apply(lambda x: asignar_categoria(x))"
   ]
  },
  {
   "cell_type": "code",
   "execution_count": 170,
   "id": "43207bf3-b5e4-45bf-9036-285991512a6a",
   "metadata": {},
   "outputs": [
    {
     "data": {
      "text/plain": [
       "ideología política    91\n",
       "racismo               58\n",
       "machismo              41\n",
       "Name: category, dtype: int64"
      ]
     },
     "execution_count": 170,
     "metadata": {},
     "output_type": "execute_result"
    }
   ],
   "source": [
    "df_comment_validation['category'].value_counts()"
   ]
  },
  {
   "cell_type": "code",
   "execution_count": 171,
   "id": "6a063ce4-9f02-4a2c-8e1f-3378914c635b",
   "metadata": {},
   "outputs": [
    {
     "data": {
      "text/plain": [
       "(190, 4)"
      ]
     },
     "execution_count": 171,
     "metadata": {},
     "output_type": "execute_result"
    }
   ],
   "source": [
    "df_comment_validation.shape"
   ]
  },
  {
   "cell_type": "markdown",
   "id": "ca028b0e-502e-4cc6-b867-a50ac78e0d9c",
   "metadata": {},
   "source": [
    "#### 3.1.1 PRUEBAS CON DATASET DESCONOCIDO"
   ]
  },
  {
   "cell_type": "code",
   "execution_count": 172,
   "id": "2effad7f-f287-4cdd-805b-f12eca305777",
   "metadata": {},
   "outputs": [],
   "source": [
    "df_otro = pd.read_csv(f\"comentarios_amnistia_a_clasificar.csv\")"
   ]
  },
  {
   "cell_type": "code",
   "execution_count": 173,
   "id": "bda49ca4-9b6a-430e-94a5-604cae60c965",
   "metadata": {},
   "outputs": [],
   "source": [
    "df_otro['comment'] = df_otro['comment'].apply(lambda x: [x])"
   ]
  },
  {
   "cell_type": "code",
   "execution_count": 174,
   "id": "a0e72741-d440-485f-b880-2d4282185888",
   "metadata": {},
   "outputs": [
    {
     "name": "stderr",
     "output_type": "stream",
     "text": [
      "100%|███████████████████████████████████████████████████████████████████████████████| 191/191 [00:00<00:00, 698.61it/s]\n"
     ]
    }
   ],
   "source": [
    "df_otro['category'] = df_otro['comment'].progress_apply(lambda x: asignar_categoria(x))"
   ]
  },
  {
   "cell_type": "code",
   "execution_count": 175,
   "id": "546e8a40-0b5e-4a21-9f94-2094960767c9",
   "metadata": {},
   "outputs": [
    {
     "data": {
      "text/plain": [
       "ideología política    92\n",
       "machismo              54\n",
       "racismo               45\n",
       "Name: category, dtype: int64"
      ]
     },
     "execution_count": 175,
     "metadata": {},
     "output_type": "execute_result"
    }
   ],
   "source": [
    "df_otro['category'].value_counts()"
   ]
  },
  {
   "cell_type": "code",
   "execution_count": 176,
   "id": "f2cf4b6a-beac-4325-be4c-e1f7b0e40eb9",
   "metadata": {},
   "outputs": [
    {
     "data": {
      "text/plain": [
       "(191, 3)"
      ]
     },
     "execution_count": 176,
     "metadata": {},
     "output_type": "execute_result"
    }
   ],
   "source": [
    "df_otro.shape"
   ]
  },
  {
   "cell_type": "markdown",
   "id": "98f5885e-357c-46d1-b0d4-454b6ca8bf7f",
   "metadata": {},
   "source": [
    "#### 3.1.2 PRUEBA CON DATASET MAS GRANDE FILTRADO POR NEGATIVOS "
   ]
  },
  {
   "cell_type": "code",
   "execution_count": 183,
   "id": "3cec5160-94bd-4601-9c43-f10860c27038",
   "metadata": {},
   "outputs": [],
   "source": [
    "df_negativos = pd.read_csv(\"comentarios_amnistia_etiquetado.csv\")"
   ]
  },
  {
   "cell_type": "code",
   "execution_count": 184,
   "id": "4b228d6e-45cb-4983-bbbc-f579f43621f6",
   "metadata": {},
   "outputs": [],
   "source": [
    "df_negativos['comment'] = df_negativos['comment'].apply(lambda x: [x])"
   ]
  },
  {
   "cell_type": "code",
   "execution_count": 185,
   "id": "36e85cff-d496-4244-8a6e-bea5f4662814",
   "metadata": {},
   "outputs": [
    {
     "name": "stderr",
     "output_type": "stream",
     "text": [
      "100%|█████████████████████████████████████████████████████████████████████████████| 8305/8305 [00:10<00:00, 810.71it/s]\n"
     ]
    }
   ],
   "source": [
    "df_negativos['category'] = df_negativos['comment'].progress_apply(lambda x: asignar_categoria(x))"
   ]
  },
  {
   "cell_type": "code",
   "execution_count": 186,
   "id": "ccccda88-ed8b-4724-bc72-988d0c9442c6",
   "metadata": {},
   "outputs": [
    {
     "data": {
      "text/plain": [
       "ideología política    5980\n",
       "machismo              1757\n",
       "racismo                568\n",
       "Name: category, dtype: int64"
      ]
     },
     "execution_count": 186,
     "metadata": {},
     "output_type": "execute_result"
    }
   ],
   "source": [
    "df_negativos['category'].value_counts()"
   ]
  },
  {
   "cell_type": "code",
   "execution_count": 187,
   "id": "d78cc7d1-5786-4598-8631-82f8c4837d4a",
   "metadata": {},
   "outputs": [
    {
     "data": {
      "text/plain": [
       "(8305, 14)"
      ]
     },
     "execution_count": 187,
     "metadata": {},
     "output_type": "execute_result"
    }
   ],
   "source": [
    "df_negativos.shape"
   ]
  },
  {
   "cell_type": "markdown",
   "id": "c1c7ea41-ffc1-45d2-97a4-dcf57dc6db4a",
   "metadata": {},
   "source": [
    "#### 3.1.3 PRUEBA CON MAS GRANDE SIN FILTROS "
   ]
  },
  {
   "cell_type": "code",
   "execution_count": 188,
   "id": "b3e1702f-89d4-4679-88ae-0da4f7807c4d",
   "metadata": {},
   "outputs": [],
   "source": [
    "df_otro_mas_grande = pd.read_csv(f\"comentarios_amnistia_sentimiento.csv\")"
   ]
  },
  {
   "cell_type": "code",
   "execution_count": 189,
   "id": "951761c8-7db5-4814-bd93-2c6ebcb828cf",
   "metadata": {},
   "outputs": [],
   "source": [
    "df_otro_mas_grande['comment'] = df_otro_mas_grande['comment'].apply(lambda x: [x])"
   ]
  },
  {
   "cell_type": "code",
   "execution_count": 190,
   "id": "06cbcbb1-bd40-4847-8b94-c78c7ed3bad0",
   "metadata": {},
   "outputs": [
    {
     "name": "stderr",
     "output_type": "stream",
     "text": [
      "100%|███████████████████████████████████████████████████████████████████████████| 11908/11908 [00:14<00:00, 827.98it/s]\n"
     ]
    }
   ],
   "source": [
    "df_otro_mas_grande['category'] = df_otro_mas_grande['comment'].progress_apply(lambda x: asignar_categoria(x))"
   ]
  },
  {
   "cell_type": "code",
   "execution_count": 191,
   "id": "5c9f146b-927b-40a7-bb1c-f315354635e8",
   "metadata": {},
   "outputs": [
    {
     "data": {
      "text/plain": [
       "ideología política    7935\n",
       "machismo              3264\n",
       "racismo                709\n",
       "Name: category, dtype: int64"
      ]
     },
     "execution_count": 191,
     "metadata": {},
     "output_type": "execute_result"
    }
   ],
   "source": [
    "df_otro_mas_grande['category'].value_counts()"
   ]
  },
  {
   "cell_type": "code",
   "execution_count": 192,
   "id": "41d43c9f-0fd2-400a-9cac-ea606326043d",
   "metadata": {},
   "outputs": [
    {
     "data": {
      "text/plain": [
       "(11908, 9)"
      ]
     },
     "execution_count": 192,
     "metadata": {},
     "output_type": "execute_result"
    }
   ],
   "source": [
    "df_otro_mas_grande.shape"
   ]
  },
  {
   "cell_type": "markdown",
   "id": "4e381e7c-6ff4-407e-b222-2a2f11e09558",
   "metadata": {},
   "source": [
    "#### 3.1.4 PRUEBAS CON MENTARIOS AL AZAR"
   ]
  },
  {
   "cell_type": "code",
   "execution_count": null,
   "id": "26d454de-363f-43f4-b3cd-6702302fab70",
   "metadata": {},
   "outputs": [],
   "source": [
    "loaded_model.predict([\"pue creo explicar bola vigilen dice enga saben\"])"
   ]
  },
  {
   "cell_type": "code",
   "execution_count": null,
   "id": "79ef96c9-90a3-46eb-95b0-3370ac09cf74",
   "metadata": {},
   "outputs": [],
   "source": [
    "df_grande_stem['comment_stem'][8457]"
   ]
  },
  {
   "cell_type": "code",
   "execution_count": null,
   "id": "cf40525f-c6f8-47dd-ab86-ad2262251608",
   "metadata": {},
   "outputs": [],
   "source": [
    "loaded_model.predict(['interesant poner evidencia carencia ofrecen sistema educativo orientado alcanzar media efecto princip supon normativizar precisi milim trica comportamiento respuesta alumno anulaci personalidad individualidad hannah arendt libro banalidad misma forma revela efecto catastr fico rdida consciencia individuo marcialidad pued productiva control alumnado consideran espacio aprendizaj embargo precio pagar empobrecimiento cancelaci aquello destaca difier masa aquello hace insustitu podemo promov sistema provoca alumno conviertan conglomerado suscept comportars masa mismo ortega tambi alertaba peligro meno sociedad cita nunca conseguido ubicar vien colaci nacemo original mueren fotocopia tremendament habitu encontrarno caso refuerza negativo amenaza desesperanza dentro aula part docent cada maestrillo librillo debe encontrar rmula acallar inercia masa provocar resplandor originalidad individu'])"
   ]
  }
 ],
 "metadata": {
  "kernelspec": {
   "display_name": "Python 3 (ipykernel)",
   "language": "python",
   "name": "python3"
  },
  "language_info": {
   "codemirror_mode": {
    "name": "ipython",
    "version": 3
   },
   "file_extension": ".py",
   "mimetype": "text/x-python",
   "name": "python",
   "nbconvert_exporter": "python",
   "pygments_lexer": "ipython3",
   "version": "3.10.4"
  },
  "widgets": {
   "application/vnd.jupyter.widget-state+json": {
    "state": {},
    "version_major": 2,
    "version_minor": 0
   }
  }
 },
 "nbformat": 4,
 "nbformat_minor": 5
}
